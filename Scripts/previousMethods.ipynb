{
 "cells": [
  {
   "cell_type": "code",
   "execution_count": 29,
   "metadata": {},
   "outputs": [],
   "source": [
    "import tensorflow as tf\n",
    "import numpy as np\n",
    "import pandas as pd\n",
    "import scanpy as sc\n",
    "from deepimpute.multinet import MultiNet  #deepImpute\n",
    "\n",
    "sc.set_figure_params(scanpy=True, dpi=30)\n",
    "\n",
    "from IPython.core.interactiveshell import InteractiveShell\n",
    "InteractiveShell.ast_node_interactivity = \"all\""
   ]
  },
  {
   "cell_type": "markdown",
   "metadata": {},
   "source": [
    "# Data Preparation"
   ]
  },
  {
   "cell_type": "code",
   "execution_count": 30,
   "metadata": {
    "tags": []
   },
   "outputs": [],
   "source": [
    "adata = sc.read_10x_mtx(\n",
    "    '/Volumes/Samsung_T5/ResearchData/scanpyTutorial/data/filtered_gene_bc_matrices/hg19',  # the directory with the `.mtx` file\n",
    "    var_names='gene_symbols',                      # use gene symbols for the variable names (variables-axis index)\n",
    "    cache=True)\n",
    "\n",
    "adata.var_names_make_unique()"
   ]
  },
  {
   "cell_type": "code",
   "execution_count": 31,
   "metadata": {
    "tags": []
   },
   "outputs": [
    {
     "output_type": "stream",
     "name": "stdout",
     "text": "Working on 2700 cells and 32738 genes\n"
    }
   ],
   "source": [
    "data = pd.DataFrame.sparse.from_spmatrix(adata.X)\n",
    "print('Working on {} cells and {} genes'.format(*data.shape))"
   ]
  },
  {
   "cell_type": "markdown",
   "metadata": {},
   "source": [
    "# Testing DeepImpute"
   ]
  },
  {
   "cell_type": "code",
   "execution_count": 34,
   "metadata": {
    "tags": []
   },
   "outputs": [
    {
     "output_type": "stream",
     "name": "stdout",
     "text": "Using all the cores (8)\n"
    }
   ],
   "source": [
    "# Using default parameters\n",
    "multinet = MultiNet()\n",
    "\n",
    "# Using custom parameters\n",
    "NN_params = {\n",
    "        'learning_rate': 1e-4,\n",
    "        'batch_size': 64,\n",
    "        'max_epochs': 500,\n",
    "        'ncores': 5,\n",
    "        'sub_outputdim': 512,\n",
    "        'architecture': [\n",
    "            {\"type\": \"dense\", \"activation\": \"relu\", \"neurons\": 256},\n",
    "            {\"type\": \"dropout\", \"activation\": \"dropout\", \"rate\": 0.2}]\n",
    "    }\n",
    "\n",
    "multinet = MultiNet(**NN_params)"
   ]
  },
  {
   "cell_type": "code",
   "execution_count": 35,
   "metadata": {
    "tags": [
     "outputPrepend"
    ]
   },
   "outputs": [
    {
     "output_type": "stream",
     "name": "stdout",
     "text": " dense_14_loss: 0.0678 - dense_15_loss: 0.0767 - val_loss: 0.2204 - val_dense_12_loss: 0.0597 - val_dense_13_loss: 0.0520 - val_dense_14_loss: 0.0524 - val_dense_15_loss: 0.0563\nEpoch 9/500\n41/41 [==============================] - 0s 9ms/step - loss: 0.2829 - dense_12_loss: 0.0804 - dense_13_loss: 0.0625 - dense_14_loss: 0.0657 - dense_15_loss: 0.0743 - val_loss: 0.2170 - val_dense_12_loss: 0.0585 - val_dense_13_loss: 0.0515 - val_dense_14_loss: 0.0516 - val_dense_15_loss: 0.0555\nEpoch 10/500\n41/41 [==============================] - 0s 9ms/step - loss: 0.2752 - dense_12_loss: 0.0778 - dense_13_loss: 0.0612 - dense_14_loss: 0.0639 - dense_15_loss: 0.0723 - val_loss: 0.2139 - val_dense_12_loss: 0.0578 - val_dense_13_loss: 0.0509 - val_dense_14_loss: 0.0505 - val_dense_15_loss: 0.0547\nEpoch 11/500\n41/41 [==============================] - 0s 9ms/step - loss: 0.2688 - dense_12_loss: 0.0761 - dense_13_loss: 0.0597 - dense_14_loss: 0.0625 - dense_15_loss: 0.0705 - val_loss: 0.2117 - val_dense_12_loss: 0.0572 - val_dense_13_loss: 0.0506 - val_dense_14_loss: 0.0500 - val_dense_15_loss: 0.0540\nEpoch 12/500\n41/41 [==============================] - 0s 9ms/step - loss: 0.2631 - dense_12_loss: 0.0739 - dense_13_loss: 0.0588 - dense_14_loss: 0.0611 - dense_15_loss: 0.0692 - val_loss: 0.2095 - val_dense_12_loss: 0.0564 - val_dense_13_loss: 0.0501 - val_dense_14_loss: 0.0494 - val_dense_15_loss: 0.0536\nEpoch 13/500\n41/41 [==============================] - 0s 10ms/step - loss: 0.2575 - dense_12_loss: 0.0722 - dense_13_loss: 0.0576 - dense_14_loss: 0.0599 - dense_15_loss: 0.0679 - val_loss: 0.2077 - val_dense_12_loss: 0.0557 - val_dense_13_loss: 0.0498 - val_dense_14_loss: 0.0491 - val_dense_15_loss: 0.0530\nEpoch 14/500\n41/41 [==============================] - 0s 9ms/step - loss: 0.2535 - dense_12_loss: 0.0709 - dense_13_loss: 0.0567 - dense_14_loss: 0.0589 - dense_15_loss: 0.0669 - val_loss: 0.2072 - val_dense_12_loss: 0.0555 - val_dense_13_loss: 0.0499 - val_dense_14_loss: 0.0489 - val_dense_15_loss: 0.0529\nEpoch 15/500\n41/41 [==============================] - 0s 11ms/step - loss: 0.2485 - dense_12_loss: 0.0693 - dense_13_loss: 0.0558 - dense_14_loss: 0.0581 - dense_15_loss: 0.0653 - val_loss: 0.2048 - val_dense_12_loss: 0.0547 - val_dense_13_loss: 0.0495 - val_dense_14_loss: 0.0484 - val_dense_15_loss: 0.0522\nEpoch 16/500\n41/41 [==============================] - 0s 10ms/step - loss: 0.2442 - dense_12_loss: 0.0683 - dense_13_loss: 0.0548 - dense_14_loss: 0.0568 - dense_15_loss: 0.0643 - val_loss: 0.2043 - val_dense_12_loss: 0.0548 - val_dense_13_loss: 0.0492 - val_dense_14_loss: 0.0483 - val_dense_15_loss: 0.0521\nEpoch 17/500\n41/41 [==============================] - 0s 10ms/step - loss: 0.2400 - dense_12_loss: 0.0670 - dense_13_loss: 0.0539 - dense_14_loss: 0.0559 - dense_15_loss: 0.0632 - val_loss: 0.2027 - val_dense_12_loss: 0.0542 - val_dense_13_loss: 0.0490 - val_dense_14_loss: 0.0478 - val_dense_15_loss: 0.0517\nEpoch 18/500\n41/41 [==============================] - 0s 10ms/step - loss: 0.2371 - dense_12_loss: 0.0662 - dense_13_loss: 0.0535 - dense_14_loss: 0.0553 - dense_15_loss: 0.0622 - val_loss: 0.2016 - val_dense_12_loss: 0.0537 - val_dense_13_loss: 0.0487 - val_dense_14_loss: 0.0476 - val_dense_15_loss: 0.0516\nEpoch 19/500\n41/41 [==============================] - 0s 10ms/step - loss: 0.2341 - dense_12_loss: 0.0652 - dense_13_loss: 0.0527 - dense_14_loss: 0.0546 - dense_15_loss: 0.0617 - val_loss: 0.2014 - val_dense_12_loss: 0.0537 - val_dense_13_loss: 0.0488 - val_dense_14_loss: 0.0476 - val_dense_15_loss: 0.0512\nEpoch 20/500\n41/41 [==============================] - 0s 10ms/step - loss: 0.2306 - dense_12_loss: 0.0642 - dense_13_loss: 0.0520 - dense_14_loss: 0.0538 - dense_15_loss: 0.0605 - val_loss: 0.2006 - val_dense_12_loss: 0.0535 - val_dense_13_loss: 0.0484 - val_dense_14_loss: 0.0475 - val_dense_15_loss: 0.0511\nEpoch 21/500\n41/41 [==============================] - 0s 10ms/step - loss: 0.2286 - dense_12_loss: 0.0637 - dense_13_loss: 0.0518 - dense_14_loss: 0.0533 - dense_15_loss: 0.0599 - val_loss: 0.1993 - val_dense_12_loss: 0.0531 - val_dense_13_loss: 0.0484 - val_dense_14_loss: 0.0471 - val_dense_15_loss: 0.0507\nEpoch 22/500\n41/41 [==============================] - 0s 11ms/step - loss: 0.2255 - dense_12_loss: 0.0626 - dense_13_loss: 0.0508 - dense_14_loss: 0.0528 - dense_15_loss: 0.0593 - val_loss: 0.1994 - val_dense_12_loss: 0.0531 - val_dense_13_loss: 0.0483 - val_dense_14_loss: 0.0472 - val_dense_15_loss: 0.0507\nEpoch 23/500\n41/41 [==============================] - 0s 11ms/step - loss: 0.2235 - dense_12_loss: 0.0622 - dense_13_loss: 0.0504 - dense_14_loss: 0.0521 - dense_15_loss: 0.0588 - val_loss: 0.1983 - val_dense_12_loss: 0.0528 - val_dense_13_loss: 0.0481 - val_dense_14_loss: 0.0470 - val_dense_15_loss: 0.0503\nEpoch 24/500\n41/41 [==============================] - 0s 11ms/step - loss: 0.2207 - dense_12_loss: 0.0617 - dense_13_loss: 0.0497 - dense_14_loss: 0.0516 - dense_15_loss: 0.0578 - val_loss: 0.1979 - val_dense_12_loss: 0.0525 - val_dense_13_loss: 0.0482 - val_dense_14_loss: 0.0469 - val_dense_15_loss: 0.0502\nEpoch 25/500\n41/41 [==============================] - 0s 11ms/step - loss: 0.2186 - dense_12_loss: 0.0606 - dense_13_loss: 0.0493 - dense_14_loss: 0.0512 - dense_15_loss: 0.0575 - val_loss: 0.1974 - val_dense_12_loss: 0.0524 - val_dense_13_loss: 0.0479 - val_dense_14_loss: 0.0469 - val_dense_15_loss: 0.0501\nEpoch 26/500\n41/41 [==============================] - 0s 11ms/step - loss: 0.2168 - dense_12_loss: 0.0602 - dense_13_loss: 0.0491 - dense_14_loss: 0.0506 - dense_15_loss: 0.0568 - val_loss: 0.1971 - val_dense_12_loss: 0.0523 - val_dense_13_loss: 0.0480 - val_dense_14_loss: 0.0467 - val_dense_15_loss: 0.0501\nEpoch 27/500\n41/41 [==============================] - 0s 11ms/step - loss: 0.2145 - dense_12_loss: 0.0596 - dense_13_loss: 0.0486 - dense_14_loss: 0.0502 - dense_15_loss: 0.0562 - val_loss: 0.1969 - val_dense_12_loss: 0.0522 - val_dense_13_loss: 0.0480 - val_dense_14_loss: 0.0468 - val_dense_15_loss: 0.0499\nEpoch 28/500\n41/41 [==============================] - 0s 11ms/step - loss: 0.2118 - dense_12_loss: 0.0589 - dense_13_loss: 0.0480 - dense_14_loss: 0.0495 - dense_15_loss: 0.0553 - val_loss: 0.1970 - val_dense_12_loss: 0.0524 - val_dense_13_loss: 0.0481 - val_dense_14_loss: 0.0467 - val_dense_15_loss: 0.0498\nEpoch 29/500\n41/41 [==============================] - 0s 11ms/step - loss: 0.2115 - dense_12_loss: 0.0588 - dense_13_loss: 0.0477 - dense_14_loss: 0.0494 - dense_15_loss: 0.0556 - val_loss: 0.1962 - val_dense_12_loss: 0.0521 - val_dense_13_loss: 0.0478 - val_dense_14_loss: 0.0466 - val_dense_15_loss: 0.0497\nEpoch 30/500\n41/41 [==============================] - 0s 11ms/step - loss: 0.2091 - dense_12_loss: 0.0580 - dense_13_loss: 0.0473 - dense_14_loss: 0.0487 - dense_15_loss: 0.0551 - val_loss: 0.1958 - val_dense_12_loss: 0.0520 - val_dense_13_loss: 0.0477 - val_dense_14_loss: 0.0466 - val_dense_15_loss: 0.0495\nEpoch 31/500\n41/41 [==============================] - 0s 10ms/step - loss: 0.2073 - dense_12_loss: 0.0577 - dense_13_loss: 0.0467 - dense_14_loss: 0.0484 - dense_15_loss: 0.0545 - val_loss: 0.1958 - val_dense_12_loss: 0.0518 - val_dense_13_loss: 0.0478 - val_dense_14_loss: 0.0467 - val_dense_15_loss: 0.0495\nEpoch 32/500\n41/41 [==============================] - 1s 12ms/step - loss: 0.2055 - dense_12_loss: 0.0570 - dense_13_loss: 0.0464 - dense_14_loss: 0.0481 - dense_15_loss: 0.0541 - val_loss: 0.1957 - val_dense_12_loss: 0.0519 - val_dense_13_loss: 0.0477 - val_dense_14_loss: 0.0466 - val_dense_15_loss: 0.0496\nEpoch 33/500\n41/41 [==============================] - 0s 11ms/step - loss: 0.2038 - dense_12_loss: 0.0568 - dense_13_loss: 0.0458 - dense_14_loss: 0.0479 - dense_15_loss: 0.0533 - val_loss: 0.1951 - val_dense_12_loss: 0.0518 - val_dense_13_loss: 0.0476 - val_dense_14_loss: 0.0464 - val_dense_15_loss: 0.0492\nEpoch 34/500\n41/41 [==============================] - 0s 11ms/step - loss: 0.2025 - dense_12_loss: 0.0563 - dense_13_loss: 0.0457 - dense_14_loss: 0.0475 - dense_15_loss: 0.0530 - val_loss: 0.1955 - val_dense_12_loss: 0.0519 - val_dense_13_loss: 0.0476 - val_dense_14_loss: 0.0465 - val_dense_15_loss: 0.0495\nEpoch 35/500\n41/41 [==============================] - 0s 11ms/step - loss: 0.2013 - dense_12_loss: 0.0560 - dense_13_loss: 0.0454 - dense_14_loss: 0.0473 - dense_15_loss: 0.0526 - val_loss: 0.1953 - val_dense_12_loss: 0.0519 - val_dense_13_loss: 0.0476 - val_dense_14_loss: 0.0465 - val_dense_15_loss: 0.0493\nEpoch 36/500\n41/41 [==============================] - 0s 11ms/step - loss: 0.1996 - dense_12_loss: 0.0557 - dense_13_loss: 0.0450 - dense_14_loss: 0.0467 - dense_15_loss: 0.0522 - val_loss: 0.1946 - val_dense_12_loss: 0.0515 - val_dense_13_loss: 0.0475 - val_dense_14_loss: 0.0465 - val_dense_15_loss: 0.0492\nEpoch 37/500\n41/41 [==============================] - 0s 11ms/step - loss: 0.1983 - dense_12_loss: 0.0552 - dense_13_loss: 0.0447 - dense_14_loss: 0.0464 - dense_15_loss: 0.0520 - val_loss: 0.1943 - val_dense_12_loss: 0.0515 - val_dense_13_loss: 0.0474 - val_dense_14_loss: 0.0462 - val_dense_15_loss: 0.0492\nEpoch 38/500\n41/41 [==============================] - 0s 11ms/step - loss: 0.1967 - dense_12_loss: 0.0548 - dense_13_loss: 0.0442 - dense_14_loss: 0.0461 - dense_15_loss: 0.0515 - val_loss: 0.1937 - val_dense_12_loss: 0.0513 - val_dense_13_loss: 0.0473 - val_dense_14_loss: 0.0462 - val_dense_15_loss: 0.0489\nEpoch 39/500\n41/41 [==============================] - 0s 11ms/step - loss: 0.1952 - dense_12_loss: 0.0545 - dense_13_loss: 0.0437 - dense_14_loss: 0.0457 - dense_15_loss: 0.0512 - val_loss: 0.1939 - val_dense_12_loss: 0.0513 - val_dense_13_loss: 0.0473 - val_dense_14_loss: 0.0461 - val_dense_15_loss: 0.0491\nEpoch 40/500\n41/41 [==============================] - 0s 11ms/step - loss: 0.1940 - dense_12_loss: 0.0540 - dense_13_loss: 0.0437 - dense_14_loss: 0.0455 - dense_15_loss: 0.0507 - val_loss: 0.1939 - val_dense_12_loss: 0.0513 - val_dense_13_loss: 0.0475 - val_dense_14_loss: 0.0461 - val_dense_15_loss: 0.0490\nEpoch 41/500\n41/41 [==============================] - 0s 11ms/step - loss: 0.1929 - dense_12_loss: 0.0538 - dense_13_loss: 0.0434 - dense_14_loss: 0.0451 - dense_15_loss: 0.0507 - val_loss: 0.1942 - val_dense_12_loss: 0.0512 - val_dense_13_loss: 0.0474 - val_dense_14_loss: 0.0462 - val_dense_15_loss: 0.0493\nEpoch 42/500\n41/41 [==============================] - 0s 11ms/step - loss: 0.1918 - dense_12_loss: 0.0534 - dense_13_loss: 0.0429 - dense_14_loss: 0.0450 - dense_15_loss: 0.0505 - val_loss: 0.1936 - val_dense_12_loss: 0.0514 - val_dense_13_loss: 0.0473 - val_dense_14_loss: 0.0461 - val_dense_15_loss: 0.0489\nEpoch 43/500\n41/41 [==============================] - 0s 11ms/step - loss: 0.1902 - dense_12_loss: 0.0530 - dense_13_loss: 0.0426 - dense_14_loss: 0.0446 - dense_15_loss: 0.0499 - val_loss: 0.1934 - val_dense_12_loss: 0.0512 - val_dense_13_loss: 0.0472 - val_dense_14_loss: 0.0462 - val_dense_15_loss: 0.0489\nEpoch 44/500\n41/41 [==============================] - 0s 11ms/step - loss: 0.1896 - dense_12_loss: 0.0527 - dense_13_loss: 0.0426 - dense_14_loss: 0.0445 - dense_15_loss: 0.0498 - val_loss: 0.1933 - val_dense_12_loss: 0.0513 - val_dense_13_loss: 0.0473 - val_dense_14_loss: 0.0461 - val_dense_15_loss: 0.0487\nEpoch 45/500\n41/41 [==============================] - 0s 11ms/step - loss: 0.1880 - dense_12_loss: 0.0522 - dense_13_loss: 0.0423 - dense_14_loss: 0.0442 - dense_15_loss: 0.0492 - val_loss: 0.1933 - val_dense_12_loss: 0.0512 - val_dense_13_loss: 0.0472 - val_dense_14_loss: 0.0461 - val_dense_15_loss: 0.0488\nEpoch 46/500\n41/41 [==============================] - 0s 10ms/step - loss: 0.1871 - dense_12_loss: 0.0520 - dense_13_loss: 0.0421 - dense_14_loss: 0.0439 - dense_15_loss: 0.0491 - val_loss: 0.1931 - val_dense_12_loss: 0.0511 - val_dense_13_loss: 0.0472 - val_dense_14_loss: 0.0460 - val_dense_15_loss: 0.0488\nEpoch 47/500\n41/41 [==============================] - 0s 11ms/step - loss: 0.1861 - dense_12_loss: 0.0517 - dense_13_loss: 0.0418 - dense_14_loss: 0.0437 - dense_15_loss: 0.0490 - val_loss: 0.1928 - val_dense_12_loss: 0.0510 - val_dense_13_loss: 0.0472 - val_dense_14_loss: 0.0460 - val_dense_15_loss: 0.0486\nEpoch 48/500\n41/41 [==============================] - 0s 11ms/step - loss: 0.1844 - dense_12_loss: 0.0514 - dense_13_loss: 0.0413 - dense_14_loss: 0.0432 - dense_15_loss: 0.0485 - val_loss: 0.1933 - val_dense_12_loss: 0.0512 - val_dense_13_loss: 0.0472 - val_dense_14_loss: 0.0463 - val_dense_15_loss: 0.0486\nEpoch 49/500\n41/41 [==============================] - 0s 10ms/step - loss: 0.1836 - dense_12_loss: 0.0512 - dense_13_loss: 0.0412 - dense_14_loss: 0.0429 - dense_15_loss: 0.0483 - val_loss: 0.1937 - val_dense_12_loss: 0.0514 - val_dense_13_loss: 0.0473 - val_dense_14_loss: 0.0463 - val_dense_15_loss: 0.0487\nEpoch 50/500\n41/41 [==============================] - 0s 11ms/step - loss: 0.1827 - dense_12_loss: 0.0510 - dense_13_loss: 0.0409 - dense_14_loss: 0.0427 - dense_15_loss: 0.0481 - val_loss: 0.1928 - val_dense_12_loss: 0.0510 - val_dense_13_loss: 0.0472 - val_dense_14_loss: 0.0460 - val_dense_15_loss: 0.0486\nEpoch 51/500\n41/41 [==============================] - 0s 10ms/step - loss: 0.1819 - dense_12_loss: 0.0507 - dense_13_loss: 0.0407 - dense_14_loss: 0.0427 - dense_15_loss: 0.0478 - val_loss: 0.1935 - val_dense_12_loss: 0.0514 - val_dense_13_loss: 0.0474 - val_dense_14_loss: 0.0462 - val_dense_15_loss: 0.0486\nEpoch 52/500\n41/41 [==============================] - 0s 11ms/step - loss: 0.1803 - dense_12_loss: 0.0503 - dense_13_loss: 0.0404 - dense_14_loss: 0.0425 - dense_15_loss: 0.0471 - val_loss: 0.1932 - val_dense_12_loss: 0.0509 - val_dense_13_loss: 0.0471 - val_dense_14_loss: 0.0463 - val_dense_15_loss: 0.0489\nEpoch 53/500\n41/41 [==============================] - 0s 11ms/step - loss: 0.1793 - dense_12_loss: 0.0500 - dense_13_loss: 0.0401 - dense_14_loss: 0.0421 - dense_15_loss: 0.0471 - val_loss: 0.1926 - val_dense_12_loss: 0.0509 - val_dense_13_loss: 0.0472 - val_dense_14_loss: 0.0460 - val_dense_15_loss: 0.0485\nEpoch 54/500\n41/41 [==============================] - 0s 11ms/step - loss: 0.1787 - dense_12_loss: 0.0500 - dense_13_loss: 0.0399 - dense_14_loss: 0.0420 - dense_15_loss: 0.0468 - val_loss: 0.1932 - val_dense_12_loss: 0.0510 - val_dense_13_loss: 0.0474 - val_dense_14_loss: 0.0461 - val_dense_15_loss: 0.0487\nEpoch 55/500\n41/41 [==============================] - 1s 13ms/step - loss: 0.1777 - dense_12_loss: 0.0497 - dense_13_loss: 0.0397 - dense_14_loss: 0.0415 - dense_15_loss: 0.0468 - val_loss: 0.1931 - val_dense_12_loss: 0.0513 - val_dense_13_loss: 0.0471 - val_dense_14_loss: 0.0461 - val_dense_15_loss: 0.0486\nEpoch 56/500\n41/41 [==============================] - 0s 11ms/step - loss: 0.1769 - dense_12_loss: 0.0494 - dense_13_loss: 0.0396 - dense_14_loss: 0.0415 - dense_15_loss: 0.0464 - val_loss: 0.1924 - val_dense_12_loss: 0.0509 - val_dense_13_loss: 0.0470 - val_dense_14_loss: 0.0460 - val_dense_15_loss: 0.0484\nEpoch 57/500\n41/41 [==============================] - 0s 11ms/step - loss: 0.1754 - dense_12_loss: 0.0490 - dense_13_loss: 0.0392 - dense_14_loss: 0.0412 - dense_15_loss: 0.0460 - val_loss: 0.1931 - val_dense_12_loss: 0.0509 - val_dense_13_loss: 0.0473 - val_dense_14_loss: 0.0459 - val_dense_15_loss: 0.0490\nEpoch 58/500\n41/41 [==============================] - 0s 11ms/step - loss: 0.1744 - dense_12_loss: 0.0487 - dense_13_loss: 0.0391 - dense_14_loss: 0.0408 - dense_15_loss: 0.0458 - val_loss: 0.1932 - val_dense_12_loss: 0.0509 - val_dense_13_loss: 0.0475 - val_dense_14_loss: 0.0460 - val_dense_15_loss: 0.0488\nEpoch 59/500\n41/41 [==============================] - 0s 11ms/step - loss: 0.1736 - dense_12_loss: 0.0486 - dense_13_loss: 0.0388 - dense_14_loss: 0.0408 - dense_15_loss: 0.0455 - val_loss: 0.1934 - val_dense_12_loss: 0.0510 - val_dense_13_loss: 0.0473 - val_dense_14_loss: 0.0465 - val_dense_15_loss: 0.0486\nEpoch 60/500\n41/41 [==============================] - 0s 11ms/step - loss: 0.1732 - dense_12_loss: 0.0482 - dense_13_loss: 0.0387 - dense_14_loss: 0.0408 - dense_15_loss: 0.0456 - val_loss: 0.1925 - val_dense_12_loss: 0.0508 - val_dense_13_loss: 0.0474 - val_dense_14_loss: 0.0459 - val_dense_15_loss: 0.0484\nEpoch 61/500\n41/41 [==============================] - 0s 11ms/step - loss: 0.1720 - dense_12_loss: 0.0480 - dense_13_loss: 0.0384 - dense_14_loss: 0.0403 - dense_15_loss: 0.0452 - val_loss: 0.1924 - val_dense_12_loss: 0.0508 - val_dense_13_loss: 0.0471 - val_dense_14_loss: 0.0462 - val_dense_15_loss: 0.0483\nEpoch 62/500\n41/41 [==============================] - 0s 11ms/step - loss: 0.1713 - dense_12_loss: 0.0479 - dense_13_loss: 0.0382 - dense_14_loss: 0.0402 - dense_15_loss: 0.0450 - val_loss: 0.1925 - val_dense_12_loss: 0.0509 - val_dense_13_loss: 0.0472 - val_dense_14_loss: 0.0460 - val_dense_15_loss: 0.0484\nEpoch 63/500\n41/41 [==============================] - 0s 12ms/step - loss: 0.1704 - dense_12_loss: 0.0475 - dense_13_loss: 0.0378 - dense_14_loss: 0.0400 - dense_15_loss: 0.0451 - val_loss: 0.1924 - val_dense_12_loss: 0.0508 - val_dense_13_loss: 0.0471 - val_dense_14_loss: 0.0459 - val_dense_15_loss: 0.0485\nEpoch 64/500\n41/41 [==============================] - 0s 11ms/step - loss: 0.1698 - dense_12_loss: 0.0475 - dense_13_loss: 0.0378 - dense_14_loss: 0.0399 - dense_15_loss: 0.0447 - val_loss: 0.1934 - val_dense_12_loss: 0.0509 - val_dense_13_loss: 0.0472 - val_dense_14_loss: 0.0465 - val_dense_15_loss: 0.0488\nEpoch 65/500\n41/41 [==============================] - 0s 11ms/step - loss: 0.1685 - dense_12_loss: 0.0470 - dense_13_loss: 0.0375 - dense_14_loss: 0.0396 - dense_15_loss: 0.0444 - val_loss: 0.1929 - val_dense_12_loss: 0.0510 - val_dense_13_loss: 0.0472 - val_dense_14_loss: 0.0462 - val_dense_15_loss: 0.0485\nEpoch 66/500\n41/41 [==============================] - 0s 12ms/step - loss: 0.1680 - dense_12_loss: 0.0470 - dense_13_loss: 0.0375 - dense_14_loss: 0.0395 - dense_15_loss: 0.0441 - val_loss: 0.1937 - val_dense_12_loss: 0.0511 - val_dense_13_loss: 0.0475 - val_dense_14_loss: 0.0462 - val_dense_15_loss: 0.0488\nEpoch 67/500\n41/41 [==============================] - 0s 12ms/step - loss: 0.1671 - dense_12_loss: 0.0468 - dense_13_loss: 0.0371 - dense_14_loss: 0.0394 - dense_15_loss: 0.0438 - val_loss: 0.1923 - val_dense_12_loss: 0.0507 - val_dense_13_loss: 0.0471 - val_dense_14_loss: 0.0461 - val_dense_15_loss: 0.0484\nEpoch 68/500\n41/41 [==============================] - 0s 12ms/step - loss: 0.1656 - dense_12_loss: 0.0463 - dense_13_loss: 0.0370 - dense_14_loss: 0.0389 - dense_15_loss: 0.0435 - val_loss: 0.1924 - val_dense_12_loss: 0.0507 - val_dense_13_loss: 0.0473 - val_dense_14_loss: 0.0460 - val_dense_15_loss: 0.0484\nEpoch 69/500\n41/41 [==============================] - 0s 12ms/step - loss: 0.1654 - dense_12_loss: 0.0464 - dense_13_loss: 0.0367 - dense_14_loss: 0.0388 - dense_15_loss: 0.0435 - val_loss: 0.1926 - val_dense_12_loss: 0.0507 - val_dense_13_loss: 0.0474 - val_dense_14_loss: 0.0461 - val_dense_15_loss: 0.0484\nEpoch 70/500\n41/41 [==============================] - 0s 12ms/step - loss: 0.1645 - dense_12_loss: 0.0461 - dense_13_loss: 0.0364 - dense_14_loss: 0.0387 - dense_15_loss: 0.0433 - val_loss: 0.1925 - val_dense_12_loss: 0.0507 - val_dense_13_loss: 0.0473 - val_dense_14_loss: 0.0460 - val_dense_15_loss: 0.0485\nEpoch 71/500\n41/41 [==============================] - 0s 11ms/step - loss: 0.1637 - dense_12_loss: 0.0457 - dense_13_loss: 0.0363 - dense_14_loss: 0.0385 - dense_15_loss: 0.0431 - val_loss: 0.1925 - val_dense_12_loss: 0.0507 - val_dense_13_loss: 0.0473 - val_dense_14_loss: 0.0462 - val_dense_15_loss: 0.0484\nEpoch 72/500\n41/41 [==============================] - 0s 11ms/step - loss: 0.1629 - dense_12_loss: 0.0454 - dense_13_loss: 0.0362 - dense_14_loss: 0.0382 - dense_15_loss: 0.0430 - val_loss: 0.1927 - val_dense_12_loss: 0.0507 - val_dense_13_loss: 0.0473 - val_dense_14_loss: 0.0461 - val_dense_15_loss: 0.0486\nStopped fitting after 72 epochs\nSaved model to disk\n"
    },
    {
     "output_type": "execute_result",
     "data": {
      "text/plain": "<deepimpute.multinet.MultiNet at 0x7fe6ac18f2e0>"
     },
     "metadata": {},
     "execution_count": 35
    }
   ],
   "source": [
    "# Using all the data\n",
    "multinet.fit(data,cell_subset=1,minVMR=0.5)\n",
    "\n",
    "# Using 80% of the data\n",
    "#multinet.fit(data,cell_subset=0.5)\n",
    "\n",
    "# Using 200 cells (randomly selected)\n",
    "#multinet.fit(data,cell_subset=200)\n",
    "\n",
    "# Custom fit\n",
    "#trainingData = data.iloc[100:250,:]\n",
    "#multinet.fit(trainingData)"
   ]
  },
  {
   "cell_type": "code",
   "execution_count": 36,
   "metadata": {
    "tags": []
   },
   "outputs": [
    {
     "output_type": "stream",
     "name": "stdout",
     "text": "Filling zeros\n"
    }
   ],
   "source": [
    "# IMPUTATION\n",
    "imputedData = multinet.predict(data)"
   ]
  },
  {
   "cell_type": "code",
   "execution_count": 37,
   "metadata": {},
   "outputs": [
    {
     "output_type": "execute_result",
     "data": {
      "text/plain": "<matplotlib.collections.PathCollection at 0x7fe6a8a6be80>"
     },
     "metadata": {},
     "execution_count": 37
    },
    {
     "output_type": "execute_result",
     "data": {
      "text/plain": "[<matplotlib.lines.Line2D at 0x7fe6a8be9850>]"
     },
     "metadata": {},
     "execution_count": 37
    },
    {
     "output_type": "execute_result",
     "data": {
      "text/plain": "(0.0, 100.0)"
     },
     "metadata": {},
     "execution_count": 37
    },
    {
     "output_type": "execute_result",
     "data": {
      "text/plain": "(0.0, 100.0)"
     },
     "metadata": {},
     "execution_count": 37
    },
    {
     "output_type": "display_data",
     "data": {
      "text/plain": "<Figure size 120x120 with 1 Axes>",
      "image/png": "[encoded data removed]"
     },
     "metadata": {
      "image/png": {
       "width": 117,
       "height": 107
      },
      "needs_background": "light"
     }
    }
   ],
   "source": [
    "import matplotlib.pyplot as plt\n",
    "import numpy as np\n",
    "\n",
    "limits = [0,100]\n",
    "\n",
    "fig,ax = plt.subplots()\n",
    "\n",
    "jitter = np.random.normal(0,1,data.size) # Add some jittering to better see the point density\n",
    "ax.scatter(data.values.flatten()+jitter,imputedData.values.flatten(),s=2)\n",
    "ax.plot(limits,limits,'r-.',linewidth=2)\n",
    "ax.set_xlim(limits)\n",
    "ax.set_ylim(limits)\n",
    "\n",
    "plt.show()"
   ]
  },
  {
   "cell_type": "code",
   "execution_count": 38,
   "metadata": {},
   "outputs": [
    {
     "output_type": "execute_result",
     "data": {
      "text/plain": "{'correlation': 0.8880724546248184, 'MSE': 0.12687596897211537}"
     },
     "metadata": {},
     "execution_count": 38
    }
   ],
   "source": [
    "# Scoring\n",
    "# Display training metrics (MSE and Pearson's correlation on the test data)\n",
    "multinet.test_metrics"
   ]
  },
  {
   "cell_type": "code",
   "execution_count": null,
   "metadata": {},
   "outputs": [],
   "source": [
    "# Ouput pandas dataframe as .mtx format \n",
    "import scipy.io, scipy.sparse\n",
    "df = pd.DataFrame({\"A\": [1,2], \"B\": [3,0]})\n",
    "scipy.io.mmwrite(\"/Volumes/Samsung_T5/ResearchData/scanpyTutorial/Rdata/filtered_gene_bc_matrices/hg19/example.mtx\", df)"
   ]
  },
  {
   "cell_type": "code",
   "execution_count": 18,
   "metadata": {},
   "outputs": [],
   "source": []
  }
 ],
 "metadata": {
  "language_info": {
   "codemirror_mode": {
    "name": "ipython",
    "version": 3
   },
   "file_extension": ".py",
   "mimetype": "text/x-python",
   "name": "python",
   "nbconvert_exporter": "python",
   "pygments_lexer": "ipython3",
   "version": "3.8.3-final"
  },
  "orig_nbformat": 2,
  "kernelspec": {
   "name": "python_defaultSpec_1594666689937",
   "display_name": "Python 3.8.3 64-bit ('tf': conda)"
  }
 },
 "nbformat": 4,
 "nbformat_minor": 2
}